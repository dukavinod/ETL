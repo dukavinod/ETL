{
 "cells": [
  {
   "cell_type": "markdown",
   "id": "33f09951-8c00-4f49-9e22-dee508fcf241",
   "metadata": {
    "execution": {
     "iopub.execute_input": "2022-10-31T06:10:06.963320Z",
     "iopub.status.busy": "2022-10-31T06:10:06.963001Z",
     "iopub.status.idle": "2022-10-31T06:10:53.089770Z",
     "shell.execute_reply": "2022-10-31T06:10:53.087592Z",
     "shell.execute_reply.started": "2022-10-31T06:10:06.963285Z"
    },
    "tags": []
   },
   "source": [
    "## ETL Project: Project Statement\n",
    "Spar Nord Bank is trying observe the withdrawal behavior and the corresponding dependent factors to optimally manage the refill frequency of a particular ATM as well as the overall effort required. Spar Nord Bank have to refill the ATMs when the money goes below a specific threshold limit. Cash refilling into ATMS depends on the activity , area where an ATM is located, weather, day of the week etc.\n",
    "\n",
    "We have data from more than 100 ATMs across Denmark. Data is captured for every transaction including withdrawn amount,card type,location,date,time,ATM type etc.\n",
    "Spar Nord Bank has built a Dimensional Model datastore (ATM Data Mart) on this ATM transaction data to understand the ATM Usage Pattern."
   ]
  },
  {
   "cell_type": "code",
   "execution_count": 2,
   "id": "c95ada7c-f7c6-4689-8684-41eae4c3494c",
   "metadata": {
    "execution": {
     "iopub.execute_input": "2022-10-31T06:47:02.057954Z",
     "iopub.status.busy": "2022-10-31T06:47:02.056452Z",
     "iopub.status.idle": "2022-10-31T06:47:02.390475Z",
     "shell.execute_reply": "2022-10-31T06:47:02.389686Z",
     "shell.execute_reply.started": "2022-10-31T06:47:02.056726Z"
    }
   },
   "outputs": [
    {
     "data": {
      "application/vnd.jupyter.widget-view+json": {
       "model_id": "2da6dc3812644da1b104ed57d871aeeb",
       "version_major": 2,
       "version_minor": 0
      },
      "text/plain": [
       "VBox()"
      ]
     },
     "metadata": {},
     "output_type": "display_data"
    },
    {
     "data": {
      "application/vnd.jupyter.widget-view+json": {
       "model_id": "",
       "version_major": 2,
       "version_minor": 0
      },
      "text/plain": [
       "FloatProgress(value=0.0, bar_style='info', description='Progress:', layout=Layout(height='25px', width='50%'),…"
      ]
     },
     "metadata": {},
     "output_type": "display_data"
    },
    {
     "name": "stdout",
     "output_type": "stream",
     "text": [
      "<pyspark.sql.session.SparkSession object at 0x7fd5d5e94b50>"
     ]
    }
   ],
   "source": [
    "# starting Spark Application : Starts a Driver Program, which initiates the spark session\n",
    "spark"
   ]
  },
  {
   "cell_type": "code",
   "execution_count": 4,
   "id": "5b345147-ee9b-4c69-ac93-1520afede888",
   "metadata": {
    "execution": {
     "iopub.execute_input": "2022-10-31T06:50:18.501971Z",
     "iopub.status.busy": "2022-10-31T06:50:18.501521Z",
     "iopub.status.idle": "2022-10-31T06:50:18.850233Z",
     "shell.execute_reply": "2022-10-31T06:50:18.800266Z",
     "shell.execute_reply.started": "2022-10-31T06:50:18.501936Z"
    },
    "tags": []
   },
   "outputs": [
    {
     "data": {
      "application/vnd.jupyter.widget-view+json": {
       "model_id": "f8ebd19c1a9946a58c2b6c8264f40cb9",
       "version_major": 2,
       "version_minor": 0
      },
      "text/plain": [
       "VBox()"
      ]
     },
     "metadata": {},
     "output_type": "display_data"
    },
    {
     "data": {
      "application/vnd.jupyter.widget-view+json": {
       "model_id": "",
       "version_major": 2,
       "version_minor": 0
      },
      "text/plain": [
       "FloatProgress(value=0.0, bar_style='info', description='Progress:', layout=Layout(height='25px', width='50%'),…"
      ]
     },
     "metadata": {},
     "output_type": "display_data"
    }
   ],
   "source": [
    "# import necessary SQL Datatypes, functions and Window operations for the transformations required\n",
    "from pyspark.sql.types import StructType, StructField, IntegerType, StringType,DoubleType\n",
    "from pyspark.sql.functions import *\n",
    "from pyspark.sql.types import *\n",
    "from pyspark.sql.window import Window"
   ]
  },
  {
   "cell_type": "code",
   "execution_count": 5,
   "id": "ac95dcb3-2c34-4adb-91cc-09cddfb00574",
   "metadata": {
    "execution": {
     "iopub.execute_input": "2022-10-31T06:50:21.208175Z",
     "iopub.status.busy": "2022-10-31T06:50:21.207809Z",
     "iopub.status.idle": "2022-10-31T06:50:21.552772Z",
     "shell.execute_reply": "2022-10-31T06:50:21.551374Z",
     "shell.execute_reply.started": "2022-10-31T06:50:21.208145Z"
    },
    "tags": []
   },
   "outputs": [
    {
     "data": {
      "application/vnd.jupyter.widget-view+json": {
       "model_id": "4edc01f2b289478780533ad238c762fe",
       "version_major": 2,
       "version_minor": 0
      },
      "text/plain": [
       "VBox()"
      ]
     },
     "metadata": {},
     "output_type": "display_data"
    },
    {
     "data": {
      "application/vnd.jupyter.widget-view+json": {
       "model_id": "",
       "version_major": 2,
       "version_minor": 0
      },
      "text/plain": [
       "FloatProgress(value=0.0, bar_style='info', description='Progress:', layout=Layout(height='25px', width='50%'),…"
      ]
     },
     "metadata": {},
     "output_type": "display_data"
    }
   ],
   "source": [
    "# Defining the schema with necessary datatypes for the columns data as defined below  \n",
    "\n",
    "fileschema = StructType([StructField('year', IntegerType(),True),\n",
    "                        StructField('month', StringType(),True),\n",
    "                        StructField('day', IntegerType(),True),\n",
    "                        StructField('weekday', StringType(),True),\n",
    "                        StructField('hour', IntegerType(),True), \n",
    "                        StructField('atm_status', StringType(),True),\n",
    "                        StructField('atm_id', StringType(),True), \n",
    "                        StructField('atm_manufacturer', StringType(),True),\n",
    "                        StructField('atm_location', StringType(),True),\n",
    "                        StructField('atm_streetname', StringType(),True),\n",
    "                        StructField('atm_street_number', IntegerType(),True),\n",
    "                        StructField('atm_zipcode', IntegerType(),True),\n",
    "                        StructField('atm_lat', DoubleType(),True),\n",
    "                        StructField('atm_lon', DoubleType(),True),\n",
    "                        StructField('currency', StringType(),True),\n",
    "                        StructField('card_type', StringType(),True),\n",
    "                        StructField('transaction_amount', IntegerType(),True),\n",
    "                        StructField('service', StringType(),True),\n",
    "                        StructField('message_code', StringType(),True),\n",
    "                        StructField('message_text', StringType(),True),\n",
    "                        StructField('weather_lat', DoubleType(),True),\n",
    "                        StructField('weather_lon', DoubleType(),True),\n",
    "                        StructField('weather_city_id', IntegerType(),True),\n",
    "                        StructField('weather_city_name', StringType(),True),\n",
    "                        StructField('temp', DoubleType(),True),\n",
    "                        StructField('pressure', IntegerType(),True),\n",
    "                        StructField('humidity', IntegerType(),True),\n",
    "                        StructField('wind_speed', IntegerType(),True),\n",
    "                        StructField('wind_deg', IntegerType(),True),\n",
    "                        StructField('rain_3h', DoubleType(),True),\n",
    "                        StructField('clouds_all', IntegerType(),True),\n",
    "                        StructField('weather_id', IntegerType(),True),\n",
    "                        StructField('weather_main', StringType(),True),\n",
    "                        StructField('weather_description', StringType(),True)\n",
    "                        ])"
   ]
  },
  {
   "cell_type": "code",
   "execution_count": 6,
   "id": "8d46f878-db57-4a50-b49b-a91d0ccf44ef",
   "metadata": {
    "execution": {
     "iopub.execute_input": "2022-10-31T06:52:34.180781Z",
     "iopub.status.busy": "2022-10-31T06:52:34.180450Z",
     "iopub.status.idle": "2022-10-31T06:52:36.767796Z",
     "shell.execute_reply": "2022-10-31T06:52:36.766577Z",
     "shell.execute_reply.started": "2022-10-31T06:52:34.180754Z"
    },
    "tags": []
   },
   "outputs": [
    {
     "data": {
      "application/vnd.jupyter.widget-view+json": {
       "model_id": "00b4d52735a44ef8b4935bf33b7e1734",
       "version_major": 2,
       "version_minor": 0
      },
      "text/plain": [
       "VBox()"
      ]
     },
     "metadata": {},
     "output_type": "display_data"
    },
    {
     "data": {
      "application/vnd.jupyter.widget-view+json": {
       "model_id": "",
       "version_major": 2,
       "version_minor": 0
      },
      "text/plain": [
       "FloatProgress(value=0.0, bar_style='info', description='Progress:', layout=Layout(height='25px', width='50%'),…"
      ]
     },
     "metadata": {},
     "output_type": "display_data"
    }
   ],
   "source": [
    "# Reading the csv file data located in HDFS storage in the below path\n",
    "ETL = spark.read.csv('hdfs:/user/root/SRC_ATM_TRANS/part-m-00000',schema = fileschema)"
   ]
  },
  {
   "cell_type": "markdown",
   "id": "1eda4937-578d-48c9-93ec-8a8b192798ff",
   "metadata": {},
   "source": [
    "### LOCATION DIMENSION Table Creation Steps"
   ]
  },
  {
   "cell_type": "code",
   "execution_count": 8,
   "id": "194e98da-c56f-49ca-a520-0a3d60d17709",
   "metadata": {
    "execution": {
     "iopub.execute_input": "2022-10-31T06:55:13.384263Z",
     "iopub.status.busy": "2022-10-31T06:55:13.383931Z",
     "iopub.status.idle": "2022-10-31T06:55:13.930522Z",
     "shell.execute_reply": "2022-10-31T06:55:13.929206Z",
     "shell.execute_reply.started": "2022-10-31T06:55:13.384235Z"
    },
    "tags": []
   },
   "outputs": [
    {
     "data": {
      "application/vnd.jupyter.widget-view+json": {
       "model_id": "d29356721d704e178dad82725bb61b7d",
       "version_major": 2,
       "version_minor": 0
      },
      "text/plain": [
       "VBox()"
      ]
     },
     "metadata": {},
     "output_type": "display_data"
    },
    {
     "data": {
      "application/vnd.jupyter.widget-view+json": {
       "model_id": "",
       "version_major": 2,
       "version_minor": 0
      },
      "text/plain": [
       "FloatProgress(value=0.0, bar_style='info', description='Progress:', layout=Layout(height='25px', width='50%'),…"
      ]
     },
     "metadata": {},
     "output_type": "display_data"
    }
   ],
   "source": [
    "# Creating the Location Dimension Table using the ETL Dataframe\n",
    "dim_loc = ETL.select(ETL.atm_location.alias('location'),\n",
    "                    ETL.atm_streetname.alias('streetname'),\n",
    "                    ETL.atm_street_number.alias('street_number'),\n",
    "                    ETL.atm_zipcode.alias('zipcode'),\n",
    "                    ETL.atm_lat.alias('lat'),\n",
    "                    ETL.atm_lon.alias('lon')).distinct()"
   ]
  },
  {
   "cell_type": "code",
   "execution_count": 9,
   "id": "bb7fa39a-c319-4540-b430-f2ea9e89974f",
   "metadata": {
    "execution": {
     "iopub.execute_input": "2022-10-31T06:55:16.056787Z",
     "iopub.status.busy": "2022-10-31T06:55:16.056458Z",
     "iopub.status.idle": "2022-10-31T06:55:16.598241Z",
     "shell.execute_reply": "2022-10-31T06:55:16.596656Z",
     "shell.execute_reply.started": "2022-10-31T06:55:16.056757Z"
    },
    "tags": []
   },
   "outputs": [
    {
     "data": {
      "application/vnd.jupyter.widget-view+json": {
       "model_id": "6eec6890ec5f42c7a12955142bdaa47d",
       "version_major": 2,
       "version_minor": 0
      },
      "text/plain": [
       "VBox()"
      ]
     },
     "metadata": {},
     "output_type": "display_data"
    },
    {
     "data": {
      "application/vnd.jupyter.widget-view+json": {
       "model_id": "",
       "version_major": 2,
       "version_minor": 0
      },
      "text/plain": [
       "FloatProgress(value=0.0, bar_style='info', description='Progress:', layout=Layout(height='25px', width='50%'),…"
      ]
     },
     "metadata": {},
     "output_type": "display_data"
    }
   ],
   "source": [
    "# Creating the Primary Key for the DIM_LOCATION Table\n",
    "DIM_LOCATION = dim_loc.select(row_number().over(Window.orderBy('zipcode')).alias('location_id'),'location','streetname','street_number','zipcode','lat','lon')"
   ]
  },
  {
   "cell_type": "code",
   "execution_count": 10,
   "id": "be3c3a0d-6235-4758-8700-ad11f6cb3a46",
   "metadata": {
    "execution": {
     "iopub.execute_input": "2022-10-31T06:56:20.283968Z",
     "iopub.status.busy": "2022-10-31T06:56:20.283614Z",
     "iopub.status.idle": "2022-10-31T06:56:40.372101Z",
     "shell.execute_reply": "2022-10-31T06:56:40.370925Z",
     "shell.execute_reply.started": "2022-10-31T06:56:20.283938Z"
    },
    "tags": []
   },
   "outputs": [
    {
     "data": {
      "application/vnd.jupyter.widget-view+json": {
       "model_id": "13c9a6f62c004cc7b5d66b877f86b792",
       "version_major": 2,
       "version_minor": 0
      },
      "text/plain": [
       "VBox()"
      ]
     },
     "metadata": {},
     "output_type": "display_data"
    },
    {
     "data": {
      "application/vnd.jupyter.widget-view+json": {
       "model_id": "",
       "version_major": 2,
       "version_minor": 0
      },
      "text/plain": [
       "FloatProgress(value=0.0, bar_style='info', description='Progress:', layout=Layout(height='25px', width='50%'),…"
      ]
     },
     "metadata": {},
     "output_type": "display_data"
    },
    {
     "name": "stdout",
     "output_type": "stream",
     "text": [
      "109"
     ]
    }
   ],
   "source": [
    "# Count of number of records in DIM_LOCATION Table for validation\n",
    "DIM_LOCATION.count()"
   ]
  },
  {
   "cell_type": "markdown",
   "id": "6c709d01-7bbf-44d0-9cc3-647ac1d02f8c",
   "metadata": {},
   "source": [
    "### CARD_TYPE DIMENSION Table Creation Steps"
   ]
  },
  {
   "cell_type": "code",
   "execution_count": 11,
   "id": "f34a6347-fe1b-4c6a-bc56-983a8180d0a0",
   "metadata": {
    "execution": {
     "iopub.execute_input": "2022-10-31T07:02:22.911848Z",
     "iopub.status.busy": "2022-10-31T07:02:22.911544Z",
     "iopub.status.idle": "2022-10-31T07:02:23.174474Z",
     "shell.execute_reply": "2022-10-31T07:02:23.173637Z",
     "shell.execute_reply.started": "2022-10-31T07:02:22.911821Z"
    },
    "tags": []
   },
   "outputs": [
    {
     "data": {
      "application/vnd.jupyter.widget-view+json": {
       "model_id": "6b2a76b867f243b1aec3a7c7976dd42c",
       "version_major": 2,
       "version_minor": 0
      },
      "text/plain": [
       "VBox()"
      ]
     },
     "metadata": {},
     "output_type": "display_data"
    },
    {
     "data": {
      "application/vnd.jupyter.widget-view+json": {
       "model_id": "",
       "version_major": 2,
       "version_minor": 0
      },
      "text/plain": [
       "FloatProgress(value=0.0, bar_style='info', description='Progress:', layout=Layout(height='25px', width='50%'),…"
      ]
     },
     "metadata": {},
     "output_type": "display_data"
    }
   ],
   "source": [
    "# Creating Card Type Dimension Table from ETL Dataframe\n",
    "dim_card_type = ETL.select('card_type').distinct()"
   ]
  },
  {
   "cell_type": "code",
   "execution_count": 12,
   "id": "bd2e002a-79e1-4939-8543-6fbef56e94b5",
   "metadata": {
    "execution": {
     "iopub.execute_input": "2022-10-31T07:03:33.019999Z",
     "iopub.status.busy": "2022-10-31T07:03:33.019587Z",
     "iopub.status.idle": "2022-10-31T07:03:33.375431Z",
     "shell.execute_reply": "2022-10-31T07:03:33.374593Z",
     "shell.execute_reply.started": "2022-10-31T07:03:33.019882Z"
    },
    "tags": []
   },
   "outputs": [
    {
     "data": {
      "application/vnd.jupyter.widget-view+json": {
       "model_id": "13bb6549b3d64af0aa8081be1e1f0ac4",
       "version_major": 2,
       "version_minor": 0
      },
      "text/plain": [
       "VBox()"
      ]
     },
     "metadata": {},
     "output_type": "display_data"
    },
    {
     "data": {
      "application/vnd.jupyter.widget-view+json": {
       "model_id": "",
       "version_major": 2,
       "version_minor": 0
      },
      "text/plain": [
       "FloatProgress(value=0.0, bar_style='info', description='Progress:', layout=Layout(height='25px', width='50%'),…"
      ]
     },
     "metadata": {},
     "output_type": "display_data"
    }
   ],
   "source": [
    "# Creating Primary Key for the DIM_CARD_TYPE Table\n",
    "\n",
    "DIM_CARD_TYPE = dim_card_type.select(row_number().over(Window.orderBy('card_type')).alias('card_type_id'),'card_type')"
   ]
  },
  {
   "cell_type": "code",
   "execution_count": 13,
   "id": "e8e14e36-c7b3-473b-b72e-61297dbc8d4e",
   "metadata": {
    "execution": {
     "iopub.execute_input": "2022-10-31T07:03:47.792598Z",
     "iopub.status.busy": "2022-10-31T07:03:47.792288Z",
     "iopub.status.idle": "2022-10-31T07:04:03.777325Z",
     "shell.execute_reply": "2022-10-31T07:04:03.776113Z",
     "shell.execute_reply.started": "2022-10-31T07:03:47.792571Z"
    },
    "tags": []
   },
   "outputs": [
    {
     "data": {
      "application/vnd.jupyter.widget-view+json": {
       "model_id": "2234d63e862d4a8b8510185e0f358200",
       "version_major": 2,
       "version_minor": 0
      },
      "text/plain": [
       "VBox()"
      ]
     },
     "metadata": {},
     "output_type": "display_data"
    },
    {
     "data": {
      "application/vnd.jupyter.widget-view+json": {
       "model_id": "",
       "version_major": 2,
       "version_minor": 0
      },
      "text/plain": [
       "FloatProgress(value=0.0, bar_style='info', description='Progress:', layout=Layout(height='25px', width='50%'),…"
      ]
     },
     "metadata": {},
     "output_type": "display_data"
    },
    {
     "name": "stdout",
     "output_type": "stream",
     "text": [
      "12"
     ]
    }
   ],
   "source": [
    "DIM_CARD_TYPE.count()"
   ]
  },
  {
   "cell_type": "markdown",
   "id": "918a20bc-a0e6-4afa-bac1-b4f5359fcc85",
   "metadata": {},
   "source": [
    "### ATM DIMENSION Table Creation Steps"
   ]
  },
  {
   "cell_type": "code",
   "execution_count": 16,
   "id": "80775acb-0a94-45c9-91ea-e8c00fe8bc0c",
   "metadata": {
    "execution": {
     "iopub.execute_input": "2022-10-31T07:05:26.910722Z",
     "iopub.status.busy": "2022-10-31T07:05:26.910423Z",
     "iopub.status.idle": "2022-10-31T07:05:27.166709Z",
     "shell.execute_reply": "2022-10-31T07:05:27.165237Z",
     "shell.execute_reply.started": "2022-10-31T07:05:26.910696Z"
    },
    "tags": []
   },
   "outputs": [
    {
     "data": {
      "application/vnd.jupyter.widget-view+json": {
       "model_id": "d7e069a208d64b5e84d6f052174dd2ad",
       "version_major": 2,
       "version_minor": 0
      },
      "text/plain": [
       "VBox()"
      ]
     },
     "metadata": {},
     "output_type": "display_data"
    },
    {
     "data": {
      "application/vnd.jupyter.widget-view+json": {
       "model_id": "",
       "version_major": 2,
       "version_minor": 0
      },
      "text/plain": [
       "FloatProgress(value=0.0, bar_style='info', description='Progress:', layout=Layout(height='25px', width='50%'),…"
      ]
     },
     "metadata": {},
     "output_type": "display_data"
    }
   ],
   "source": [
    "# Creating ATM dimension table from ETL dataframe \n",
    "condition1 = [DIM_LOCATION.location == ETL.atm_location,\n",
    "              DIM_LOCATION.streetname == ETL.atm_streetname,\n",
    "              DIM_LOCATION.street_number == ETL.atm_street_number,\n",
    "              DIM_LOCATION.zipcode == ETL.atm_zipcode,\n",
    "              DIM_LOCATION.lat == ETL.atm_lat,\n",
    "              DIM_LOCATION.lon == ETL.atm_lon]\n",
    "\n",
    "dim_atm = DIM_LOCATION.join(ETL,condition1,'leftouter').select(DIM_LOCATION.location_id.alias('atm_location_id'),\n",
    "       ETL.atm_manufacturer.alias('atm_manufacturer'),ETL.atm_id.alias('atm_number')).distinct()"
   ]
  },
  {
   "cell_type": "code",
   "execution_count": 17,
   "id": "60c79b9c-710e-405c-bd87-3c4aebae760b",
   "metadata": {
    "execution": {
     "iopub.execute_input": "2022-10-31T07:08:31.092845Z",
     "iopub.status.busy": "2022-10-31T07:08:31.092554Z",
     "iopub.status.idle": "2022-10-31T07:08:31.374501Z",
     "shell.execute_reply": "2022-10-31T07:08:31.373662Z",
     "shell.execute_reply.started": "2022-10-31T07:08:31.092820Z"
    },
    "tags": []
   },
   "outputs": [
    {
     "data": {
      "application/vnd.jupyter.widget-view+json": {
       "model_id": "4c901df8e96e4d75a65160c5b845b8ee",
       "version_major": 2,
       "version_minor": 0
      },
      "text/plain": [
       "VBox()"
      ]
     },
     "metadata": {},
     "output_type": "display_data"
    },
    {
     "data": {
      "application/vnd.jupyter.widget-view+json": {
       "model_id": "",
       "version_major": 2,
       "version_minor": 0
      },
      "text/plain": [
       "FloatProgress(value=0.0, bar_style='info', description='Progress:', layout=Layout(height='25px', width='50%'),…"
      ]
     },
     "metadata": {},
     "output_type": "display_data"
    }
   ],
   "source": [
    "# Creating primary key for the ATM Dimension Table\n",
    "DIM_ATM = dim_atm.select(row_number().over(Window.orderBy('atm_number')).alias('atm_id'),'atm_number','atm_manufacturer','atm_location_id')"
   ]
  },
  {
   "cell_type": "code",
   "execution_count": 19,
   "id": "9fe52747-413b-4e7d-ac18-a140f374f727",
   "metadata": {
    "execution": {
     "iopub.execute_input": "2022-10-31T07:10:59.222624Z",
     "iopub.status.busy": "2022-10-31T07:10:59.222313Z",
     "iopub.status.idle": "2022-10-31T07:11:31.772329Z",
     "shell.execute_reply": "2022-10-31T07:11:31.771353Z",
     "shell.execute_reply.started": "2022-10-31T07:10:59.222597Z"
    },
    "tags": []
   },
   "outputs": [
    {
     "data": {
      "application/vnd.jupyter.widget-view+json": {
       "model_id": "60ee20568226463e9399bba5cb35ab03",
       "version_major": 2,
       "version_minor": 0
      },
      "text/plain": [
       "VBox()"
      ]
     },
     "metadata": {},
     "output_type": "display_data"
    },
    {
     "data": {
      "application/vnd.jupyter.widget-view+json": {
       "model_id": "",
       "version_major": 2,
       "version_minor": 0
      },
      "text/plain": [
       "FloatProgress(value=0.0, bar_style='info', description='Progress:', layout=Layout(height='25px', width='50%'),…"
      ]
     },
     "metadata": {},
     "output_type": "display_data"
    },
    {
     "name": "stdout",
     "output_type": "stream",
     "text": [
      "113"
     ]
    }
   ],
   "source": [
    "# Count of records in ATM DIMENSION table\n",
    "DIM_ATM.count()"
   ]
  },
  {
   "cell_type": "markdown",
   "id": "8eb65bd5-975e-4f1e-9126-b3da48789092",
   "metadata": {},
   "source": [
    "### DATE DIMENSION TABLE Creation Steps"
   ]
  },
  {
   "cell_type": "code",
   "execution_count": 20,
   "id": "fa8d49ed-b559-48a6-9ceb-c81202754d7b",
   "metadata": {
    "execution": {
     "iopub.execute_input": "2022-10-31T07:12:43.503628Z",
     "iopub.status.busy": "2022-10-31T07:12:43.503324Z",
     "iopub.status.idle": "2022-10-31T07:12:44.545016Z",
     "shell.execute_reply": "2022-10-31T07:12:44.541613Z",
     "shell.execute_reply.started": "2022-10-31T07:12:43.503601Z"
    },
    "tags": []
   },
   "outputs": [
    {
     "data": {
      "application/vnd.jupyter.widget-view+json": {
       "model_id": "e26f4b04d5f04d42810c30046ce101f4",
       "version_major": 2,
       "version_minor": 0
      },
      "text/plain": [
       "VBox()"
      ]
     },
     "metadata": {},
     "output_type": "display_data"
    },
    {
     "data": {
      "application/vnd.jupyter.widget-view+json": {
       "model_id": "",
       "version_major": 2,
       "version_minor": 0
      },
      "text/plain": [
       "FloatProgress(value=0.0, bar_style='info', description='Progress:', layout=Layout(height='25px', width='50%'),…"
      ]
     },
     "metadata": {},
     "output_type": "display_data"
    }
   ],
   "source": [
    "# mapping month name to month number for the timestamp creation\n",
    "dim_date = ETL.select('year','month','day','hour','weekday',expr(\"CASE WHEN (month = 'January') THEN '01' \" +\n",
    "                          \"WHEN (month = 'February') THEN '02'\" +\n",
    "                          \"WHEN (month = 'March') THEN '03'\" +\n",
    "                          \"WHEN (month = 'April') THEN '04'\" +\n",
    "                          \"WHEN (month = 'May') THEN '05'\" +\n",
    "                          \"WHEN (month = 'June') THEN '06'\" +\n",
    "                          \"WHEN (month = 'July') THEN '07'\" +\n",
    "                          \"WHEN (month = 'August') THEN '08'\" +\n",
    "                          \"WHEN (month = 'September') THEN '09'\" +\n",
    "                          \"WHEN (month = 'October') THEN '10'\" +\n",
    "                          \"WHEN (month = 'November') THEN '11'\" +\n",
    "                          \"ELSE '12' END\").alias('month_number'))"
   ]
  },
  {
   "cell_type": "code",
   "execution_count": 21,
   "id": "f78c29de-622c-4d1b-bb51-55d99690d71e",
   "metadata": {
    "execution": {
     "iopub.execute_input": "2022-10-31T07:14:26.145017Z",
     "iopub.status.busy": "2022-10-31T07:14:26.144616Z",
     "iopub.status.idle": "2022-10-31T07:14:27.274285Z",
     "shell.execute_reply": "2022-10-31T07:14:27.269711Z",
     "shell.execute_reply.started": "2022-10-31T07:14:26.144985Z"
    },
    "tags": []
   },
   "outputs": [
    {
     "data": {
      "application/vnd.jupyter.widget-view+json": {
       "model_id": "3384a59027cc41679bcb5ad719fb2838",
       "version_major": 2,
       "version_minor": 0
      },
      "text/plain": [
       "VBox()"
      ]
     },
     "metadata": {},
     "output_type": "display_data"
    },
    {
     "data": {
      "application/vnd.jupyter.widget-view+json": {
       "model_id": "",
       "version_major": 2,
       "version_minor": 0
      },
      "text/plain": [
       "FloatProgress(value=0.0, bar_style='info', description='Progress:', layout=Layout(height='25px', width='50%'),…"
      ]
     },
     "metadata": {},
     "output_type": "display_data"
    }
   ],
   "source": [
    "# Acheiving the date timestamp pattern by concatenating the necessary fields\n",
    "dim_date1 = dim_date.select('*',concat('year',lit(':'),'month_number',lit(':'),'day',lit(' '),'hour',lit(':'),lit('00'),lit(':'),lit('00')).alias('date_time'))"
   ]
  },
  {
   "cell_type": "code",
   "execution_count": 22,
   "id": "dd87e1c3-49c7-40c1-b543-56311d497c38",
   "metadata": {
    "execution": {
     "iopub.execute_input": "2022-10-31T07:14:29.951553Z",
     "iopub.status.busy": "2022-10-31T07:14:29.951139Z",
     "iopub.status.idle": "2022-10-31T07:14:30.460067Z",
     "shell.execute_reply": "2022-10-31T07:14:30.459153Z",
     "shell.execute_reply.started": "2022-10-31T07:14:29.951513Z"
    },
    "tags": []
   },
   "outputs": [
    {
     "data": {
      "application/vnd.jupyter.widget-view+json": {
       "model_id": "aa1e9d89266f441ba4e67c361f1512c6",
       "version_major": 2,
       "version_minor": 0
      },
      "text/plain": [
       "VBox()"
      ]
     },
     "metadata": {},
     "output_type": "display_data"
    },
    {
     "data": {
      "application/vnd.jupyter.widget-view+json": {
       "model_id": "",
       "version_major": 2,
       "version_minor": 0
      },
      "text/plain": [
       "FloatProgress(value=0.0, bar_style='info', description='Progress:', layout=Layout(height='25px', width='50%'),…"
      ]
     },
     "metadata": {},
     "output_type": "display_data"
    }
   ],
   "source": [
    "\n",
    "pattern = 'yyyy:MM:dd HH:mm:ss'\n",
    "dim_date2 = dim_date1.withColumn('full_date_time',unix_timestamp('date_time',pattern).cast('timestamp')).distinct()"
   ]
  },
  {
   "cell_type": "code",
   "execution_count": 23,
   "id": "23ccb097-f31b-46cf-8fc8-dba0d0d60034",
   "metadata": {
    "execution": {
     "iopub.execute_input": "2022-10-31T07:15:55.226199Z",
     "iopub.status.busy": "2022-10-31T07:15:55.225627Z",
     "iopub.status.idle": "2022-10-31T07:15:55.509296Z",
     "shell.execute_reply": "2022-10-31T07:15:55.504760Z",
     "shell.execute_reply.started": "2022-10-31T07:15:55.226162Z"
    },
    "tags": []
   },
   "outputs": [
    {
     "data": {
      "application/vnd.jupyter.widget-view+json": {
       "model_id": "d5f996e4006847f99c8dc2a626111f40",
       "version_major": 2,
       "version_minor": 0
      },
      "text/plain": [
       "VBox()"
      ]
     },
     "metadata": {},
     "output_type": "display_data"
    },
    {
     "data": {
      "application/vnd.jupyter.widget-view+json": {
       "model_id": "",
       "version_major": 2,
       "version_minor": 0
      },
      "text/plain": [
       "FloatProgress(value=0.0, bar_style='info', description='Progress:', layout=Layout(height='25px', width='50%'),…"
      ]
     },
     "metadata": {},
     "output_type": "display_data"
    }
   ],
   "source": [
    "# Creating the Date Dimension Table and date_id as Primary Key \n",
    "DIM_DATE = dim_date2.select(row_number().over(Window.orderBy('full_date_time')).alias('date_id'),'full_date_time','year','month','day','hour','weekday')\n"
   ]
  },
  {
   "cell_type": "code",
   "execution_count": 24,
   "id": "d0693038-c6bd-4081-92a2-ea2eec8ff5de",
   "metadata": {
    "execution": {
     "iopub.execute_input": "2022-10-31T07:15:59.325051Z",
     "iopub.status.busy": "2022-10-31T07:15:59.324646Z",
     "iopub.status.idle": "2022-10-31T07:16:25.413407Z",
     "shell.execute_reply": "2022-10-31T07:16:25.411810Z",
     "shell.execute_reply.started": "2022-10-31T07:15:59.325015Z"
    },
    "tags": []
   },
   "outputs": [
    {
     "data": {
      "application/vnd.jupyter.widget-view+json": {
       "model_id": "55a35f37b63c4616a23a7e3c4895dd02",
       "version_major": 2,
       "version_minor": 0
      },
      "text/plain": [
       "VBox()"
      ]
     },
     "metadata": {},
     "output_type": "display_data"
    },
    {
     "data": {
      "application/vnd.jupyter.widget-view+json": {
       "model_id": "",
       "version_major": 2,
       "version_minor": 0
      },
      "text/plain": [
       "FloatProgress(value=0.0, bar_style='info', description='Progress:', layout=Layout(height='25px', width='50%'),…"
      ]
     },
     "metadata": {},
     "output_type": "display_data"
    },
    {
     "name": "stdout",
     "output_type": "stream",
     "text": [
      "8685"
     ]
    }
   ],
   "source": [
    "DIM_DATE.count()"
   ]
  },
  {
   "cell_type": "markdown",
   "id": "8e73bb68-f17d-4c9d-902e-8f4c22e8d3df",
   "metadata": {},
   "source": [
    "### FACT_ATM_TRANS Fact Table Creation Steps"
   ]
  },
  {
   "cell_type": "code",
   "execution_count": 25,
   "id": "eecb7a57-0fe0-4f55-afb1-ef2b25aa1d42",
   "metadata": {
    "execution": {
     "iopub.execute_input": "2022-10-31T07:19:14.745049Z",
     "iopub.status.busy": "2022-10-31T07:19:14.744511Z",
     "iopub.status.idle": "2022-10-31T07:19:15.322375Z",
     "shell.execute_reply": "2022-10-31T07:19:15.321269Z",
     "shell.execute_reply.started": "2022-10-31T07:19:14.745012Z"
    },
    "tags": []
   },
   "outputs": [
    {
     "data": {
      "application/vnd.jupyter.widget-view+json": {
       "model_id": "d62b72e9fdf44c308546b75d0b39a595",
       "version_major": 2,
       "version_minor": 0
      },
      "text/plain": [
       "VBox()"
      ]
     },
     "metadata": {},
     "output_type": "display_data"
    },
    {
     "data": {
      "application/vnd.jupyter.widget-view+json": {
       "model_id": "",
       "version_major": 2,
       "version_minor": 0
      },
      "text/plain": [
       "FloatProgress(value=0.0, bar_style='info', description='Progress:', layout=Layout(height='25px', width='50%'),…"
      ]
     },
     "metadata": {},
     "output_type": "display_data"
    }
   ],
   "source": [
    "# 1st Transformation to get atm_id Foreign Key into Fact table : FACT_ATM_TRANS table\n",
    "condition1 = [DIM_ATM.atm_number == ETL.atm_id]\n",
    "\n",
    "fact_atm_trans1 = ETL.join(DIM_ATM,condition1,'leftouter').select(\n",
    "    DIM_ATM.atm_id,'year','month','day','weekday','hour','atm_status', ETL.atm_manufacturer,'atm_location','atm_streetname','atm_street_number',\n",
    "    'atm_zipcode','atm_lat','atm_lon','currency','card_type', 'transaction_amount','service','message_code',\n",
    "    'message_text','weather_lat','weather_lon','weather_city_id','weather_city_name','temp','pressure',\n",
    "    'humidity','wind_speed','wind_deg','rain_3h', 'clouds_all','weather_id','weather_main','weather_description'\n",
    "    ,'atm_number','atm_location_id')"
   ]
  },
  {
   "cell_type": "code",
   "execution_count": 26,
   "id": "b1fb9f80-bf8b-4b88-9f7d-fbfa76460ad5",
   "metadata": {
    "execution": {
     "iopub.execute_input": "2022-10-31T07:21:20.688332Z",
     "iopub.status.busy": "2022-10-31T07:21:20.687912Z",
     "iopub.status.idle": "2022-10-31T07:21:21.200225Z",
     "shell.execute_reply": "2022-10-31T07:21:21.199151Z",
     "shell.execute_reply.started": "2022-10-31T07:21:20.688292Z"
    },
    "tags": []
   },
   "outputs": [
    {
     "data": {
      "application/vnd.jupyter.widget-view+json": {
       "model_id": "6e45909d423f4d09bfca14b7074fa1b4",
       "version_major": 2,
       "version_minor": 0
      },
      "text/plain": [
       "VBox()"
      ]
     },
     "metadata": {},
     "output_type": "display_data"
    },
    {
     "data": {
      "application/vnd.jupyter.widget-view+json": {
       "model_id": "",
       "version_major": 2,
       "version_minor": 0
      },
      "text/plain": [
       "FloatProgress(value=0.0, bar_style='info', description='Progress:', layout=Layout(height='25px', width='50%'),…"
      ]
     },
     "metadata": {},
     "output_type": "display_data"
    }
   ],
   "source": [
    "# 2nd Transformation to get get date_id Foreign Key into Fact table : FACT_ATM_TRANS table\n",
    "condition2 = [fact_atm_trans1.year == DIM_DATE.year,\n",
    "              fact_atm_trans1.month == DIM_DATE.month,\n",
    "              fact_atm_trans1.day == DIM_DATE.day,\n",
    "              fact_atm_trans1.hour == DIM_DATE.hour,\n",
    "              fact_atm_trans1.weekday == DIM_DATE.weekday]\n",
    "fact_atm_trans2 =fact_atm_trans1.join(DIM_DATE,condition2,'leftouter').select(DIM_DATE.date_id,'atm_id',DIM_DATE.year,DIM_DATE.month,DIM_DATE.day,DIM_DATE.weekday,DIM_DATE.hour,'atm_status', ETL.atm_manufacturer,'atm_location','atm_streetname','atm_street_number',\n",
    "    'atm_zipcode','atm_lat','atm_lon','currency','card_type', 'transaction_amount','service','message_code',\n",
    "    'message_text','weather_lat','weather_lon','weather_city_id','weather_city_name','temp','pressure',\n",
    "    'humidity','wind_speed','wind_deg','rain_3h', 'clouds_all','weather_id','weather_main','weather_description'\n",
    "    ,'atm_number','atm_location_id')"
   ]
  },
  {
   "cell_type": "code",
   "execution_count": 27,
   "id": "5ff7b7e3-dd58-4528-8867-5569919a14e1",
   "metadata": {
    "execution": {
     "iopub.execute_input": "2022-10-31T07:21:25.994814Z",
     "iopub.status.busy": "2022-10-31T07:21:25.994390Z",
     "iopub.status.idle": "2022-10-31T07:21:26.502771Z",
     "shell.execute_reply": "2022-10-31T07:21:26.501917Z",
     "shell.execute_reply.started": "2022-10-31T07:21:25.994774Z"
    },
    "tags": []
   },
   "outputs": [
    {
     "data": {
      "application/vnd.jupyter.widget-view+json": {
       "model_id": "20e1f21cbd8f49a8b1f3f9be804d8741",
       "version_major": 2,
       "version_minor": 0
      },
      "text/plain": [
       "VBox()"
      ]
     },
     "metadata": {},
     "output_type": "display_data"
    },
    {
     "data": {
      "application/vnd.jupyter.widget-view+json": {
       "model_id": "",
       "version_major": 2,
       "version_minor": 0
      },
      "text/plain": [
       "FloatProgress(value=0.0, bar_style='info', description='Progress:', layout=Layout(height='25px', width='50%'),…"
      ]
     },
     "metadata": {},
     "output_type": "display_data"
    }
   ],
   "source": [
    "# 3rd Transformation to get get card_type_id Foreign Key into Fact table : FACT_ATM_TRANS table\n",
    "condition3 = [fact_atm_trans2.card_type == DIM_CARD_TYPE.card_type]\n",
    "\n",
    "fact_atm_trans3 = fact_atm_trans2.join(DIM_CARD_TYPE , condition3 , 'leftouter').select(DIM_CARD_TYPE.card_type_id,'date_id','atm_id','year','month','day','weekday','hour','atm_status','atm_manufacturer','atm_location','atm_streetname','atm_street_number',\n",
    "    'atm_zipcode','atm_lat','atm_lon','currency',DIM_CARD_TYPE.card_type,'transaction_amount','service','message_code',\n",
    "    'message_text','weather_lat','weather_lon','weather_city_id','weather_city_name','temp','pressure',\n",
    "    'humidity','wind_speed','wind_deg','rain_3h', 'clouds_all','weather_id','weather_main','weather_description'\n",
    "    ,'atm_number','atm_location_id')"
   ]
  },
  {
   "cell_type": "code",
   "execution_count": 29,
   "id": "e5b1f322-413e-4695-8f20-0aae80f5bf6c",
   "metadata": {
    "execution": {
     "iopub.execute_input": "2022-10-31T07:27:34.965809Z",
     "iopub.status.busy": "2022-10-31T07:27:34.965478Z",
     "iopub.status.idle": "2022-10-31T07:27:35.264259Z",
     "shell.execute_reply": "2022-10-31T07:27:35.262927Z",
     "shell.execute_reply.started": "2022-10-31T07:27:34.965776Z"
    },
    "tags": []
   },
   "outputs": [
    {
     "data": {
      "application/vnd.jupyter.widget-view+json": {
       "model_id": "d40359507a554ad2b511ac96ee83a022",
       "version_major": 2,
       "version_minor": 0
      },
      "text/plain": [
       "VBox()"
      ]
     },
     "metadata": {},
     "output_type": "display_data"
    },
    {
     "data": {
      "application/vnd.jupyter.widget-view+json": {
       "model_id": "",
       "version_major": 2,
       "version_minor": 0
      },
      "text/plain": [
       "FloatProgress(value=0.0, bar_style='info', description='Progress:', layout=Layout(height='25px', width='50%'),…"
      ]
     },
     "metadata": {},
     "output_type": "display_data"
    }
   ],
   "source": [
    "# 4th Transformation to get weather_Loc_id Foreign Key into Fact table : FACT_ATM_TRANS table\n",
    "condition4 = [fact_atm_trans3.atm_location == DIM_LOCATION.location,\n",
    "              fact_atm_trans3.atm_streetname == DIM_LOCATION.streetname,\n",
    "              fact_atm_trans3.atm_street_number == DIM_LOCATION.street_number,\n",
    "              fact_atm_trans3.atm_zipcode == DIM_LOCATION.zipcode,\n",
    "              fact_atm_trans3.atm_lat == DIM_LOCATION.lat,\n",
    "              fact_atm_trans3.atm_lon == DIM_LOCATION.lon]\n",
    "fact_atm_trans4 = fact_atm_trans3.join(DIM_LOCATION,condition4,'leftouter').select(DIM_LOCATION.location_id.alias('weather_loc_id'),'card_type_id','date_id','atm_id','atm_status','currency','transaction_amount','service','message_code',\n",
    "    'message_text','rain_3h', 'clouds_all','weather_id','weather_main','weather_description')"
   ]
  },
  {
   "cell_type": "code",
   "execution_count": 31,
   "id": "f89ea47f-9ff2-4c81-a166-15c1cee13e97",
   "metadata": {
    "execution": {
     "iopub.execute_input": "2022-10-31T07:34:50.844663Z",
     "iopub.status.busy": "2022-10-31T07:34:50.844353Z",
     "iopub.status.idle": "2022-10-31T07:34:51.400714Z",
     "shell.execute_reply": "2022-10-31T07:34:51.399734Z",
     "shell.execute_reply.started": "2022-10-31T07:34:50.844636Z"
    },
    "tags": []
   },
   "outputs": [
    {
     "data": {
      "application/vnd.jupyter.widget-view+json": {
       "model_id": "dcb1fda84a2f42c9a9040bee64717138",
       "version_major": 2,
       "version_minor": 0
      },
      "text/plain": [
       "VBox()"
      ]
     },
     "metadata": {},
     "output_type": "display_data"
    },
    {
     "data": {
      "application/vnd.jupyter.widget-view+json": {
       "model_id": "",
       "version_major": 2,
       "version_minor": 0
      },
      "text/plain": [
       "FloatProgress(value=0.0, bar_style='info', description='Progress:', layout=Layout(height='25px', width='50%'),…"
      ]
     },
     "metadata": {},
     "output_type": "display_data"
    }
   ],
   "source": [
    "# Creating transaction id as primary key for the Fact Table : FACT_ATM_TRANS\n",
    "FACT_ATM_TRANS = fact_atm_trans4.select(row_number().over(Window.orderBy('date_id')).alias('trans_id'),'atm_id','weather_loc_id','date_id','card_type_id','atm_status','currency','service','transaction_amount','message_code',\n",
    "    'message_text','rain_3h', 'clouds_all','weather_id','weather_main','weather_description')"
   ]
  },
  {
   "cell_type": "code",
   "execution_count": 32,
   "id": "f58fb2fd-e891-4f0e-9dd9-fa7e9c125b82",
   "metadata": {
    "execution": {
     "iopub.execute_input": "2022-10-31T07:34:54.344966Z",
     "iopub.status.busy": "2022-10-31T07:34:54.344327Z",
     "iopub.status.idle": "2022-10-31T07:36:01.970289Z",
     "shell.execute_reply": "2022-10-31T07:36:01.969285Z",
     "shell.execute_reply.started": "2022-10-31T07:34:54.344930Z"
    },
    "tags": []
   },
   "outputs": [
    {
     "data": {
      "application/vnd.jupyter.widget-view+json": {
       "model_id": "07767f549f0b44eba0c8b35ace52a151",
       "version_major": 2,
       "version_minor": 0
      },
      "text/plain": [
       "VBox()"
      ]
     },
     "metadata": {},
     "output_type": "display_data"
    },
    {
     "data": {
      "application/vnd.jupyter.widget-view+json": {
       "model_id": "",
       "version_major": 2,
       "version_minor": 0
      },
      "text/plain": [
       "FloatProgress(value=0.0, bar_style='info', description='Progress:', layout=Layout(height='25px', width='50%'),…"
      ]
     },
     "metadata": {},
     "output_type": "display_data"
    },
    {
     "name": "stdout",
     "output_type": "stream",
     "text": [
      "2468572"
     ]
    }
   ],
   "source": [
    "# Total Records in FACT_ATM_TRANS table\n",
    "FACT_ATM_TRANS.count()"
   ]
  },
  {
   "cell_type": "markdown",
   "id": "374bb1d4-6abe-43c2-91f1-080cdf766a58",
   "metadata": {},
   "source": [
    "### Number of records validation in Fact tables before loading them into S3 storage for furthur processing"
   ]
  },
  {
   "cell_type": "code",
   "execution_count": 33,
   "id": "f0e344fc-f9dd-454d-8212-b73974f44b54",
   "metadata": {
    "execution": {
     "iopub.execute_input": "2022-10-31T07:36:17.384818Z",
     "iopub.status.busy": "2022-10-31T07:36:17.384507Z",
     "iopub.status.idle": "2022-10-31T07:37:08.876833Z",
     "shell.execute_reply": "2022-10-31T07:37:08.875496Z",
     "shell.execute_reply.started": "2022-10-31T07:36:17.384791Z"
    },
    "tags": []
   },
   "outputs": [
    {
     "data": {
      "application/vnd.jupyter.widget-view+json": {
       "model_id": "3f57a9fd3c4849ba933b45cbd5b31886",
       "version_major": 2,
       "version_minor": 0
      },
      "text/plain": [
       "VBox()"
      ]
     },
     "metadata": {},
     "output_type": "display_data"
    },
    {
     "data": {
      "application/vnd.jupyter.widget-view+json": {
       "model_id": "",
       "version_major": 2,
       "version_minor": 0
      },
      "text/plain": [
       "FloatProgress(value=0.0, bar_style='info', description='Progress:', layout=Layout(height='25px', width='50%'),…"
      ]
     },
     "metadata": {},
     "output_type": "display_data"
    },
    {
     "name": "stdout",
     "output_type": "stream",
     "text": [
      "8685"
     ]
    }
   ],
   "source": [
    "FACT_ATM_TRANS.select('date_id').distinct().count()"
   ]
  },
  {
   "cell_type": "code",
   "execution_count": 34,
   "id": "7c34d423-b2bf-4797-b382-bef16ae43459",
   "metadata": {
    "execution": {
     "iopub.execute_input": "2022-10-31T07:37:30.652573Z",
     "iopub.status.busy": "2022-10-31T07:37:30.652177Z",
     "iopub.status.idle": "2022-10-31T07:38:18.450518Z",
     "shell.execute_reply": "2022-10-31T07:38:18.373594Z",
     "shell.execute_reply.started": "2022-10-31T07:37:30.652536Z"
    },
    "tags": []
   },
   "outputs": [
    {
     "data": {
      "application/vnd.jupyter.widget-view+json": {
       "model_id": "37fc48fbc2c64aaeba95f6864b7d2558",
       "version_major": 2,
       "version_minor": 0
      },
      "text/plain": [
       "VBox()"
      ]
     },
     "metadata": {},
     "output_type": "display_data"
    },
    {
     "data": {
      "application/vnd.jupyter.widget-view+json": {
       "model_id": "",
       "version_major": 2,
       "version_minor": 0
      },
      "text/plain": [
       "FloatProgress(value=0.0, bar_style='info', description='Progress:', layout=Layout(height='25px', width='50%'),…"
      ]
     },
     "metadata": {},
     "output_type": "display_data"
    },
    {
     "name": "stdout",
     "output_type": "stream",
     "text": [
      "12"
     ]
    }
   ],
   "source": [
    "FACT_ATM_TRANS.select('card_type_id').distinct().count()"
   ]
  },
  {
   "cell_type": "code",
   "execution_count": 35,
   "id": "96b56310-6ed8-4e45-b0c1-3c691109c283",
   "metadata": {
    "execution": {
     "iopub.execute_input": "2022-10-31T07:38:22.867429Z",
     "iopub.status.busy": "2022-10-31T07:38:22.866987Z",
     "iopub.status.idle": "2022-10-31T07:39:19.871821Z",
     "shell.execute_reply": "2022-10-31T07:39:19.870864Z",
     "shell.execute_reply.started": "2022-10-31T07:38:22.867386Z"
    },
    "tags": []
   },
   "outputs": [
    {
     "data": {
      "application/vnd.jupyter.widget-view+json": {
       "model_id": "6b770b52f2ce4434ba122fb0ed55967b",
       "version_major": 2,
       "version_minor": 0
      },
      "text/plain": [
       "VBox()"
      ]
     },
     "metadata": {},
     "output_type": "display_data"
    },
    {
     "data": {
      "application/vnd.jupyter.widget-view+json": {
       "model_id": "",
       "version_major": 2,
       "version_minor": 0
      },
      "text/plain": [
       "FloatProgress(value=0.0, bar_style='info', description='Progress:', layout=Layout(height='25px', width='50%'),…"
      ]
     },
     "metadata": {},
     "output_type": "display_data"
    },
    {
     "name": "stdout",
     "output_type": "stream",
     "text": [
      "113"
     ]
    }
   ],
   "source": [
    "FACT_ATM_TRANS.select('atm_id').distinct().count()"
   ]
  },
  {
   "cell_type": "code",
   "execution_count": 36,
   "id": "e234523f-415a-490d-9a5c-fdc051f28a1b",
   "metadata": {
    "execution": {
     "iopub.execute_input": "2022-10-31T07:39:24.769731Z",
     "iopub.status.busy": "2022-10-31T07:39:24.769334Z",
     "iopub.status.idle": "2022-10-31T07:40:17.878696Z",
     "shell.execute_reply": "2022-10-31T07:40:17.877631Z",
     "shell.execute_reply.started": "2022-10-31T07:39:24.769689Z"
    },
    "tags": []
   },
   "outputs": [
    {
     "data": {
      "application/vnd.jupyter.widget-view+json": {
       "model_id": "89970d71a2ea49df8f2f95e4ff44e441",
       "version_major": 2,
       "version_minor": 0
      },
      "text/plain": [
       "VBox()"
      ]
     },
     "metadata": {},
     "output_type": "display_data"
    },
    {
     "data": {
      "application/vnd.jupyter.widget-view+json": {
       "model_id": "",
       "version_major": 2,
       "version_minor": 0
      },
      "text/plain": [
       "FloatProgress(value=0.0, bar_style='info', description='Progress:', layout=Layout(height='25px', width='50%'),…"
      ]
     },
     "metadata": {},
     "output_type": "display_data"
    },
    {
     "name": "stdout",
     "output_type": "stream",
     "text": [
      "109"
     ]
    }
   ],
   "source": [
    "FACT_ATM_TRANS.select('weather_loc_id').distinct().count()"
   ]
  },
  {
   "cell_type": "markdown",
   "id": "6429797f-9c5c-42f5-b37c-ae7a19336809",
   "metadata": {},
   "source": [
    "### Load the Data into S3 storage bucket folder at the path 's3://etlvinods3bucket'"
   ]
  },
  {
   "cell_type": "code",
   "execution_count": 35,
   "id": "52069673-8a17-42ad-a413-47404735a47f",
   "metadata": {
    "execution": {
     "iopub.execute_input": "2022-10-28T10:45:41.890875Z",
     "iopub.status.busy": "2022-10-28T10:45:41.890564Z",
     "iopub.status.idle": "2022-10-28T10:46:07.868953Z",
     "shell.execute_reply": "2022-10-28T10:46:07.868008Z",
     "shell.execute_reply.started": "2022-10-28T10:45:41.890848Z"
    },
    "tags": []
   },
   "outputs": [
    {
     "data": {
      "application/vnd.jupyter.widget-view+json": {
       "model_id": "de9a897344844f9c960d98d34212b8ba",
       "version_major": 2,
       "version_minor": 0
      },
      "text/plain": [
       "VBox()"
      ]
     },
     "metadata": {},
     "output_type": "display_data"
    },
    {
     "data": {
      "application/vnd.jupyter.widget-view+json": {
       "model_id": "",
       "version_major": 2,
       "version_minor": 0
      },
      "text/plain": [
       "FloatProgress(value=0.0, bar_style='info', description='Progress:', layout=Layout(height='25px', width='50%'),…"
      ]
     },
     "metadata": {},
     "output_type": "display_data"
    }
   ],
   "source": [
    "# write the DIM_DATE date into s3 storage at \"s3://etlprojectdukavinods3/DIM_DATE\"\n",
    "DIM_DATE.coalesce(1).write.format(\"csv\").option(\"header\",\"false\").mode(\"Overwrite\").save(\"s3://etlprojectdukavinods3/DIM_DATE\")"
   ]
  },
  {
   "cell_type": "code",
   "execution_count": 36,
   "id": "8414a419-3b9b-464f-9081-968082c487b3",
   "metadata": {
    "execution": {
     "iopub.execute_input": "2022-10-28T10:46:12.838432Z",
     "iopub.status.busy": "2022-10-28T10:46:12.838055Z",
     "iopub.status.idle": "2022-10-28T10:46:23.726746Z",
     "shell.execute_reply": "2022-10-28T10:46:23.640774Z",
     "shell.execute_reply.started": "2022-10-28T10:46:12.838390Z"
    },
    "tags": []
   },
   "outputs": [
    {
     "data": {
      "application/vnd.jupyter.widget-view+json": {
       "model_id": "9bf5ab99c7a84172879762b2512f3bad",
       "version_major": 2,
       "version_minor": 0
      },
      "text/plain": [
       "VBox()"
      ]
     },
     "metadata": {},
     "output_type": "display_data"
    },
    {
     "data": {
      "application/vnd.jupyter.widget-view+json": {
       "model_id": "",
       "version_major": 2,
       "version_minor": 0
      },
      "text/plain": [
       "FloatProgress(value=0.0, bar_style='info', description='Progress:', layout=Layout(height='25px', width='50%'),…"
      ]
     },
     "metadata": {},
     "output_type": "display_data"
    }
   ],
   "source": [
    "# write the DIM_LOCATION data into s3 storage at \"s3://etlprojectdukavinods3/DIM_LOCATION\" \n",
    "DIM_LOCATION.coalesce(1).write.format(\"csv\").option(\"header\",\"false\").mode(\"Overwrite\").save(\"s3://etlprojectdukavinods3/DIM_LOCATION\")"
   ]
  },
  {
   "cell_type": "code",
   "execution_count": 37,
   "id": "a0bb7e12-39f1-4085-b157-4441d1a33c5f",
   "metadata": {
    "execution": {
     "iopub.execute_input": "2022-10-28T10:46:29.378249Z",
     "iopub.status.busy": "2022-10-28T10:46:29.377910Z",
     "iopub.status.idle": "2022-10-28T10:46:35.345964Z",
     "shell.execute_reply": "2022-10-28T10:46:35.344211Z",
     "shell.execute_reply.started": "2022-10-28T10:46:29.378222Z"
    },
    "tags": []
   },
   "outputs": [
    {
     "data": {
      "application/vnd.jupyter.widget-view+json": {
       "model_id": "40595402fff341c2a8996ef3f8599026",
       "version_major": 2,
       "version_minor": 0
      },
      "text/plain": [
       "VBox()"
      ]
     },
     "metadata": {},
     "output_type": "display_data"
    },
    {
     "data": {
      "application/vnd.jupyter.widget-view+json": {
       "model_id": "",
       "version_major": 2,
       "version_minor": 0
      },
      "text/plain": [
       "FloatProgress(value=0.0, bar_style='info', description='Progress:', layout=Layout(height='25px', width='50%'),…"
      ]
     },
     "metadata": {},
     "output_type": "display_data"
    }
   ],
   "source": [
    "# write the DIM_CARD_TYPE data into s3 storage at \"s3://etlprojectdukavinods3/DIM_CARD_TYPE\"\n",
    "DIM_CARD_TYPE.coalesce(1).write.format(\"csv\").option(\"header\",\"false\").mode(\"Overwrite\").save(\"s3://etlprojectdukavinods3/DIM_CARD_TYPE\")"
   ]
  },
  {
   "cell_type": "code",
   "execution_count": 38,
   "id": "1fdb328b-6635-4b00-a3a7-9d9f1bc42f45",
   "metadata": {
    "execution": {
     "iopub.execute_input": "2022-10-28T10:46:42.427679Z",
     "iopub.status.busy": "2022-10-28T10:46:42.427244Z",
     "iopub.status.idle": "2022-10-28T10:47:13.925865Z",
     "shell.execute_reply": "2022-10-28T10:47:13.924558Z",
     "shell.execute_reply.started": "2022-10-28T10:46:42.427636Z"
    },
    "tags": []
   },
   "outputs": [
    {
     "data": {
      "application/vnd.jupyter.widget-view+json": {
       "model_id": "007754a0b9224e79bb44be02bdd82bc0",
       "version_major": 2,
       "version_minor": 0
      },
      "text/plain": [
       "VBox()"
      ]
     },
     "metadata": {},
     "output_type": "display_data"
    },
    {
     "data": {
      "application/vnd.jupyter.widget-view+json": {
       "model_id": "",
       "version_major": 2,
       "version_minor": 0
      },
      "text/plain": [
       "FloatProgress(value=0.0, bar_style='info', description='Progress:', layout=Layout(height='25px', width='50%'),…"
      ]
     },
     "metadata": {},
     "output_type": "display_data"
    }
   ],
   "source": [
    "# write the DIM_ATM data into s3 storage at \"s3://etlprojectdukavinods3/DIM_ATM\"\n",
    "DIM_ATM.coalesce(1).write.format(\"csv\").option(\"header\",\"false\").mode(\"Overwrite\").save(\"s3://etlprojectdukavinods3/DIM_ATM\")"
   ]
  },
  {
   "cell_type": "code",
   "execution_count": 39,
   "id": "fe56f2c5-b3c1-4e55-9382-18791b7ca929",
   "metadata": {
    "execution": {
     "iopub.execute_input": "2022-10-28T10:47:19.437926Z",
     "iopub.status.busy": "2022-10-28T10:47:19.437400Z",
     "iopub.status.idle": "2022-10-28T10:48:28.302148Z",
     "shell.execute_reply": "2022-10-28T10:48:28.301056Z",
     "shell.execute_reply.started": "2022-10-28T10:47:19.437880Z"
    },
    "tags": []
   },
   "outputs": [
    {
     "data": {
      "application/vnd.jupyter.widget-view+json": {
       "model_id": "daa943fc098642fd8e4758466b0a99d5",
       "version_major": 2,
       "version_minor": 0
      },
      "text/plain": [
       "VBox()"
      ]
     },
     "metadata": {},
     "output_type": "display_data"
    },
    {
     "data": {
      "application/vnd.jupyter.widget-view+json": {
       "model_id": "",
       "version_major": 2,
       "version_minor": 0
      },
      "text/plain": [
       "FloatProgress(value=0.0, bar_style='info', description='Progress:', layout=Layout(height='25px', width='50%'),…"
      ]
     },
     "metadata": {},
     "output_type": "display_data"
    }
   ],
   "source": [
    "# write the FACT_ATM_TRANS data into s3 storage at \"s3://etlprojectdukavinods3/FACT_ATM_TRANS\"\n",
    "FACT_ATM_TRANS.coalesce(1).write.format(\"csv\").option(\"header\",\"false\").mode(\"Overwrite\").save(\"s3://etlprojectdukavinods3/FACT_ATM_TRANS\")"
   ]
  },
  {
   "cell_type": "code",
   "execution_count": null,
   "id": "27bde51f-fe54-4f07-a398-ff46280fcebc",
   "metadata": {},
   "outputs": [],
   "source": []
  }
 ],
 "metadata": {
  "kernelspec": {
   "display_name": "PySpark",
   "language": "",
   "name": "pysparkkernel"
  },
  "language_info": {
   "codemirror_mode": {
    "name": "python",
    "version": 2
   },
   "mimetype": "text/x-python",
   "name": "pyspark",
   "pygments_lexer": "python2"
  }
 },
 "nbformat": 4,
 "nbformat_minor": 5
}
